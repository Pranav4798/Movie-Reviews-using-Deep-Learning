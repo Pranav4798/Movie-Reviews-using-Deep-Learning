{
 "cells": [
  {
   "cell_type": "code",
   "execution_count": 1,
   "metadata": {},
   "outputs": [
    {
     "name": "stdout",
     "output_type": "stream",
     "text": [
      "2.5.0\n"
     ]
    }
   ],
   "source": [
    "##import the required libraries and APIs\n",
    "import numpy as np\n",
    "import tensorflow as tf\n",
    "import tensorflow_datasets as tfds\n",
    "from tensorflow.keras.preprocessing.text import Tokenizer\n",
    "from tensorflow.keras.preprocessing.sequence import pad_sequences\n",
    "\n",
    "print(tf.__version__)"
   ]
  },
  {
   "cell_type": "code",
   "execution_count": 2,
   "metadata": {},
   "outputs": [],
   "source": [
    "##load the imdb reviews dataset\n",
    "data, info = tfds.load(\"imdb_reviews\", with_info=True, as_supervised=True)"
   ]
  },
  {
   "cell_type": "code",
   "execution_count": 3,
   "metadata": {},
   "outputs": [],
   "source": [
    "##segregate training and test set\n",
    "train_data, test_data = data['train'], data['test']\n",
    "\n",
    "##create empty list to store sentences and labels\n",
    "train_sentences = []\n",
    "test_sentences = []\n",
    "\n",
    "train_labels = []\n",
    "test_labels = []"
   ]
  },
  {
   "cell_type": "code",
   "execution_count": 4,
   "metadata": {},
   "outputs": [],
   "source": [
    "##iterate over the train data to extract sentences and labels\n",
    "for sent, label in train_data:\n",
    "    train_sentences.append(str(sent.numpy().decode('utf8')))\n",
    "    train_labels.append(label.numpy())\n",
    "\n",
    "##iterate over the test set to extract sentences and labels\n",
    "for sent, label in test_data:\n",
    "    test_sentences.append(str(sent.numpy().decode('utf8')))\n",
    "    test_labels.append(label.numpy())"
   ]
  },
  {
   "cell_type": "code",
   "execution_count": 5,
   "metadata": {},
   "outputs": [],
   "source": [
    "##convert lists into numpy array\n",
    "train_labels = np.array(train_labels)\n",
    "test_labels = np.array(test_labels)"
   ]
  },
  {
   "cell_type": "markdown",
   "metadata": {},
   "source": [
    "#### Data Preparation"
   ]
  },
  {
   "cell_type": "code",
   "execution_count": 6,
   "metadata": {},
   "outputs": [],
   "source": [
    "##define the parameters for the tokenizing and padding\n",
    "vocab_size = 10000\n",
    "embedding_dim = 16\n",
    "max_length = 120\n",
    "trunc_type='post'\n",
    "oov_tok = \"<OOV>\""
   ]
  },
  {
   "cell_type": "code",
   "execution_count": 7,
   "metadata": {},
   "outputs": [],
   "source": [
    "tokenizer = Tokenizer(num_words = vocab_size, oov_token=oov_tok)\n",
    "tokenizer.fit_on_texts(train_sentences)\n",
    "word_index = tokenizer.word_index\n",
    "\n",
    "##training sequences and labels\n",
    "train_seqs = tokenizer.texts_to_sequences(train_sentences)\n",
    "train_padded = pad_sequences(train_seqs, maxlen=max_length, truncating=trunc_type)\n",
    "\n",
    "##testing sequences and labels\n",
    "test_seqs = tokenizer.texts_to_sequences(test_sentences)\n",
    "test_padded = pad_sequences(test_seqs,maxlen=max_length)"
   ]
  },
  {
   "cell_type": "markdown",
   "metadata": {},
   "source": [
    "### Defining the Neural Network"
   ]
  },
  {
   "cell_type": "code",
   "execution_count": 8,
   "metadata": {},
   "outputs": [
    {
     "name": "stdout",
     "output_type": "stream",
     "text": [
      "Model: \"sequential\"\n",
      "_________________________________________________________________\n",
      "Layer (type)                 Output Shape              Param #   \n",
      "=================================================================\n",
      "embedding (Embedding)        (None, 120, 16)           160000    \n",
      "_________________________________________________________________\n",
      "global_average_pooling1d (Gl (None, 16)                0         \n",
      "_________________________________________________________________\n",
      "dense (Dense)                (None, 32)                544       \n",
      "_________________________________________________________________\n",
      "dense_1 (Dense)              (None, 1)                 33        \n",
      "=================================================================\n",
      "Total params: 160,577\n",
      "Trainable params: 160,577\n",
      "Non-trainable params: 0\n",
      "_________________________________________________________________\n"
     ]
    }
   ],
   "source": [
    "model = tf.keras.Sequential([\n",
    "    tf.keras.layers.Embedding(vocab_size, embedding_dim, input_length=max_length),\n",
    "    tf.keras.layers.GlobalAveragePooling1D(),\n",
    "    tf.keras.layers.Dense(32, activation='relu'),\n",
    "    tf.keras.layers.Dense(1, activation='sigmoid')\n",
    "])\n",
    "\n",
    "##compile the model with loss function, optimizer and metrics\n",
    "model.compile(loss='binary_crossentropy',optimizer='adam',metrics=['accuracy'])\n",
    "model.summary()"
   ]
  },
  {
   "cell_type": "code",
   "execution_count": 9,
   "metadata": {},
   "outputs": [
    {
     "name": "stdout",
     "output_type": "stream",
     "text": [
      "Epoch 1/25\n",
      "782/782 [==============================] - 3s 2ms/step - loss: 0.5020 - accuracy: 0.7636 - val_loss: 0.3537 - val_accuracy: 0.8490\n",
      "Epoch 2/25\n",
      "782/782 [==============================] - 3s 3ms/step - loss: 0.3002 - accuracy: 0.8760 - val_loss: 0.3290 - val_accuracy: 0.8582\n",
      "Epoch 3/25\n",
      "782/782 [==============================] - 3s 3ms/step - loss: 0.2449 - accuracy: 0.9019 - val_loss: 0.3564 - val_accuracy: 0.8484\n",
      "Epoch 4/25\n",
      "782/782 [==============================] - 3s 3ms/step - loss: 0.2099 - accuracy: 0.9208 - val_loss: 0.3825 - val_accuracy: 0.8430\n",
      "Epoch 5/25\n",
      "782/782 [==============================] - 3s 3ms/step - loss: 0.1852 - accuracy: 0.9323 - val_loss: 0.4158 - val_accuracy: 0.8375\n",
      "Epoch 6/25\n",
      "782/782 [==============================] - 3s 3ms/step - loss: 0.1636 - accuracy: 0.9415 - val_loss: 0.4651 - val_accuracy: 0.8302\n",
      "Epoch 7/25\n",
      "782/782 [==============================] - 3s 4ms/step - loss: 0.1474 - accuracy: 0.9474 - val_loss: 0.5075 - val_accuracy: 0.8256\n",
      "Epoch 8/25\n",
      "782/782 [==============================] - 3s 3ms/step - loss: 0.1342 - accuracy: 0.9527 - val_loss: 0.5533 - val_accuracy: 0.8205\n",
      "Epoch 9/25\n",
      "782/782 [==============================] - 3s 3ms/step - loss: 0.1179 - accuracy: 0.9605 - val_loss: 0.6053 - val_accuracy: 0.8182\n",
      "Epoch 10/25\n",
      "782/782 [==============================] - 3s 3ms/step - loss: 0.1053 - accuracy: 0.9681 - val_loss: 0.6815 - val_accuracy: 0.8166\n",
      "Epoch 11/25\n",
      "782/782 [==============================] - 3s 3ms/step - loss: 0.0956 - accuracy: 0.9710 - val_loss: 0.7334 - val_accuracy: 0.8149\n",
      "Epoch 12/25\n",
      "782/782 [==============================] - 3s 3ms/step - loss: 0.0843 - accuracy: 0.9753 - val_loss: 0.8067 - val_accuracy: 0.8124\n",
      "Epoch 13/25\n",
      "782/782 [==============================] - 3s 4ms/step - loss: 0.0776 - accuracy: 0.9774 - val_loss: 0.8548 - val_accuracy: 0.8091\n",
      "Epoch 14/25\n",
      "782/782 [==============================] - 3s 3ms/step - loss: 0.0671 - accuracy: 0.9820 - val_loss: 0.9266 - val_accuracy: 0.8071\n",
      "Epoch 15/25\n",
      "782/782 [==============================] - 3s 4ms/step - loss: 0.0604 - accuracy: 0.9842 - val_loss: 0.9779 - val_accuracy: 0.8018\n",
      "Epoch 16/25\n",
      "782/782 [==============================] - 3s 3ms/step - loss: 0.0540 - accuracy: 0.9862 - val_loss: 1.0926 - val_accuracy: 0.8042\n",
      "Epoch 17/25\n",
      "782/782 [==============================] - 3s 3ms/step - loss: 0.0482 - accuracy: 0.9882 - val_loss: 1.1348 - val_accuracy: 0.8004\n",
      "Epoch 18/25\n",
      "782/782 [==============================] - 3s 3ms/step - loss: 0.0456 - accuracy: 0.9877 - val_loss: 1.2522 - val_accuracy: 0.7996\n",
      "Epoch 19/25\n",
      "782/782 [==============================] - 3s 3ms/step - loss: 0.0408 - accuracy: 0.9889 - val_loss: 1.3183 - val_accuracy: 0.7995\n",
      "Epoch 20/25\n",
      "782/782 [==============================] - 3s 3ms/step - loss: 0.0378 - accuracy: 0.9900 - val_loss: 1.2870 - val_accuracy: 0.7936\n",
      "Epoch 21/25\n",
      "782/782 [==============================] - 3s 3ms/step - loss: 0.0362 - accuracy: 0.9902 - val_loss: 1.4318 - val_accuracy: 0.7960\n",
      "Epoch 22/25\n",
      "782/782 [==============================] - 3s 3ms/step - loss: 0.0328 - accuracy: 0.9907 - val_loss: 1.5470 - val_accuracy: 0.7975\n",
      "Epoch 23/25\n",
      "782/782 [==============================] - 3s 3ms/step - loss: 0.0304 - accuracy: 0.9904 - val_loss: 1.4983 - val_accuracy: 0.7930\n",
      "Epoch 24/25\n",
      "782/782 [==============================] - 3s 3ms/step - loss: 0.0253 - accuracy: 0.9923 - val_loss: 1.5821 - val_accuracy: 0.7914\n",
      "Epoch 25/25\n",
      "782/782 [==============================] - 3s 3ms/step - loss: 0.0209 - accuracy: 0.9934 - val_loss: 1.7839 - val_accuracy: 0.7956\n"
     ]
    }
   ],
   "source": [
    "num_epochs = 25\n",
    "\n",
    "##train the model with training and validation set\n",
    "history = model.fit(\n",
    "    train_padded,   #training sequence\n",
    "    train_labels, # training labels\n",
    "    epochs=num_epochs, \n",
    "    validation_data=(test_padded, test_labels) # test data\n",
    "    )"
   ]
  },
  {
   "cell_type": "code",
   "execution_count": 11,
   "metadata": {},
   "outputs": [
    {
     "data": {
      "image/png": "[encoded data removed]",
      "text/plain": [
       "<Figure size 432x288 with 1 Axes>"
      ]
     },
     "metadata": {
      "needs_background": "light"
     },
     "output_type": "display_data"
    },
    {
     "data": {
      "image/png": "[encoded data removed]",
      "text/plain": [
       "<Figure size 432x288 with 1 Axes>"
      ]
     },
     "metadata": {
      "needs_background": "light"
     },
     "output_type": "display_data"
    }
   ],
   "source": [
    "import matplotlib.pyplot as plt\n",
    "\n",
    "##plot the scores from history\n",
    "def plot_metrics(history, metric):\n",
    "  plt.plot(history.history[metric])\n",
    "  plt.plot(history.history['val_'+metric])\n",
    "  plt.legend([metric, 'val_'+metric])\n",
    "  plt.xlabel(\"Epochs\")\n",
    "  plt.ylabel(metric)\n",
    "  plt.show()\n",
    "  \n",
    "##plot accuracy\n",
    "plot_metrics(history, \"accuracy\")\n",
    "\n",
    "##plot loss\n",
    "plot_metrics(history, \"loss\")"
   ]
  },
  {
   "cell_type": "markdown",
   "metadata": {},
   "source": [
    "### Classify new reviews"
   ]
  },
  {
   "cell_type": "code",
   "execution_count": 20,
   "metadata": {},
   "outputs": [
    {
     "name": "stdout",
     "output_type": "stream",
     "text": [
      "[[0.00611505]\n",
      " [0.10234499]]\n"
     ]
    }
   ],
   "source": [
    "sentence = [\"The first part of the movie was dull and boring!\", \"We watched Queen's Gambit, in a single sitting. This show is an absolute gem.\"]\n",
    "\n",
    "##prepare the sequences of the sentences in question\n",
    "sequences = tokenizer.texts_to_sequences(sentence)\n",
    "padded_seqs = pad_sequences(sequences, maxlen=max_length, truncating=trunc_type)\n",
    "\n",
    "##print the classification score\n",
    "print(model.predict(padded_seqs))"
   ]
  },
  {
   "cell_type": "code",
   "execution_count": 21,
   "metadata": {},
   "outputs": [
    {
     "name": "stdout",
     "output_type": "stream",
     "text": [
      "[[0.00611505]\n",
      " [0.03281558]]\n"
     ]
    }
   ],
   "source": [
    "sentence = [\"The first part of the movie was dull and boring!\", \"It is a very bad movie!\"]\n",
    "\n",
    "##prepare the sequences of the sentences in question\n",
    "sequences = tokenizer.texts_to_sequences(sentence)\n",
    "padded_seqs = pad_sequences(sequences, maxlen=max_length, truncating=trunc_type)\n",
    "\n",
    "##print the classification score\n",
    "print(model.predict(padded_seqs))"
   ]
  },
  {
   "cell_type": "code",
   "execution_count": 25,
   "metadata": {},
   "outputs": [
    {
     "name": "stdout",
     "output_type": "stream",
     "text": [
      "[[0.718324 ]\n",
      " [0.8724136]]\n"
     ]
    }
   ],
   "source": [
    "sentence = [\"It is a good movie\", \"\"]\n",
    "\n",
    "##prepare the sequences of the sentences in question\n",
    "sequences = tokenizer.texts_to_sequences(sentence)\n",
    "padded_seqs = pad_sequences(sequences, maxlen=max_length, truncating=trunc_type)\n",
    "\n",
    "##print the classification score\n",
    "print(model.predict(padded_seqs))"
   ]
  },
  {
   "cell_type": "code",
   "execution_count": null,
   "metadata": {},
   "outputs": [],
   "source": []
  }
 ],
 "metadata": {
  "kernelspec": {
   "display_name": "Python 3",
   "language": "python",
   "name": "python3"
  },
  "language_info": {
   "codemirror_mode": {
    "name": "ipython",
    "version": 3
   },
   "file_extension": ".py",
   "mimetype": "text/x-python",
   "name": "python",
   "nbconvert_exporter": "python",
   "pygments_lexer": "ipython3",
   "version": "3.7.3"
  }
 },
 "nbformat": 4,
 "nbformat_minor": 2
}
